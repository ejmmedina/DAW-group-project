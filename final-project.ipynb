{
 "cells": [
  {
   "cell_type": "code",
   "execution_count": 1,
   "metadata": {
    "ExecuteTime": {
     "end_time": "2020-09-10T14:44:29.100158Z",
     "start_time": "2020-09-10T14:44:29.095171Z"
    }
   },
   "outputs": [],
   "source": [
    "from IPython.display import display, IFrame, HTML\n",
    "import os\n",
    "\n",
    "def show_app(app, port=9999, width=900, height=700):\n",
    "    host = 'localhost'\n",
    "    url = f'http://{host}:{port}'\n",
    "\n",
    "    display(HTML(f\"<a href='{url}' target='_blank'>Open in new tab</a>\"))\n",
    "    display(IFrame(url, width=width, height=height))\n",
    "    app.css.config.serve_locally = True\n",
    "    app.scripts.config.serve_locally = True\n",
    "    return app.run_server(debug=False, host=host, port=port)"
   ]
  },
  {
   "cell_type": "code",
   "execution_count": 2,
   "metadata": {
    "ExecuteTime": {
     "end_time": "2020-09-10T14:44:32.313496Z",
     "start_time": "2020-09-10T14:44:29.769681Z"
    }
   },
   "outputs": [],
   "source": [
    "import dash\n",
    "import dash_core_components as dcc\n",
    "import dash_html_components as html\n",
    "import dash_table as dt\n",
    "import plotly.graph_objs as go\n",
    "import pandas as pd\n",
    "import re\n",
    "import base64\n",
    "from PIL import Image\n",
    "from io import BytesIO\n",
    "import numpy as np\n",
    "from dash.dependencies import Input, Output, State"
   ]
  },
  {
   "cell_type": "code",
   "execution_count": 3,
   "metadata": {
    "ExecuteTime": {
     "end_time": "2020-09-10T14:44:32.933084Z",
     "start_time": "2020-09-10T14:44:32.919120Z"
    }
   },
   "outputs": [],
   "source": [
    "# assets_folder directory where you put css and js\n",
    "external_stylesheets = [\"https://stackpath.bootstrapcdn.com/bootstrap/4.3.1/css/bootstrap.min.css\", \"https://codepen.io/chriddyp/pen/brPBPO.css\"]\n",
    "app = dash.Dash('__name__', assets_folder='static/', external_stylesheets=external_stylesheets)"
   ]
  },
  {
   "cell_type": "code",
   "execution_count": 4,
   "metadata": {
    "ExecuteTime": {
     "end_time": "2020-09-10T14:44:40.663895Z",
     "start_time": "2020-09-10T14:44:33.580855Z"
    },
    "scrolled": true
   },
   "outputs": [],
   "source": [
    "from tensorflow.keras.models import load_model"
   ]
  },
  {
   "cell_type": "code",
   "execution_count": 6,
   "metadata": {
    "ExecuteTime": {
     "end_time": "2020-09-10T14:44:59.692540Z",
     "start_time": "2020-09-10T14:44:59.688549Z"
    }
   },
   "outputs": [],
   "source": [
    "from tensorflow import get_default_graph"
   ]
  },
  {
   "cell_type": "code",
   "execution_count": 8,
   "metadata": {
    "ExecuteTime": {
     "end_time": "2020-09-10T15:08:42.325930Z",
     "start_time": "2020-09-10T14:46:06.223538Z"
    },
    "scrolled": false
   },
   "outputs": [
    {
     "data": {
      "text/html": [
       "<a href='http://localhost:9999' target='_blank'>Open in new tab</a>"
      ],
      "text/plain": [
       "<IPython.core.display.HTML object>"
      ]
     },
     "metadata": {},
     "output_type": "display_data"
    },
    {
     "data": {
      "text/html": [
       "\n",
       "        <iframe\n",
       "            width=\"900\"\n",
       "            height=\"700\"\n",
       "            src=\"http://localhost:9999\"\n",
       "            frameborder=\"0\"\n",
       "            allowfullscreen\n",
       "        ></iframe>\n",
       "        "
      ],
      "text/plain": [
       "<IPython.lib.display.IFrame at 0x2d883d82ec8>"
      ]
     },
     "metadata": {},
     "output_type": "display_data"
    },
    {
     "name": "stdout",
     "output_type": "stream",
     "text": [
      " * Serving Flask app \"__name__\" (lazy loading)\n",
      " * Environment: production\n",
      "   WARNING: This is a development server. Do not use it in a production deployment.\n",
      "   Use a production WSGI server instead.\n",
      " * Debug mode: off\n"
     ]
    },
    {
     "name": "stderr",
     "output_type": "stream",
     "text": [
      " * Running on http://localhost:9999/ (Press CTRL+C to quit)\n",
      "127.0.0.1 - - [10/Sep/2020 22:46:06] \"\u001b[37mGET / HTTP/1.1\u001b[0m\" 200 -\n",
      "127.0.0.1 - - [10/Sep/2020 22:46:06] \"\u001b[37mGET /_dash-component-suites/dash_renderer/prop-types@15.7.2.min.js?v=1.1.2&m=1571341129 HTTP/1.1\u001b[0m\" 200 -\n",
      "127.0.0.1 - - [10/Sep/2020 22:46:06] \"\u001b[37mGET /_dash-component-suites/dash_renderer/react@16.8.6.min.js?v=1.1.2&m=1571341129 HTTP/1.1\u001b[0m\" 200 -\n",
      "127.0.0.1 - - [10/Sep/2020 22:46:06] \"\u001b[37mGET /_dash-component-suites/dash_html_components/dash_html_components.min.js?v=1.0.1&m=1566962730 HTTP/1.1\u001b[0m\" 200 -\n",
      "127.0.0.1 - - [10/Sep/2020 22:46:06] \"\u001b[37mGET /_dash-component-suites/dash_renderer/react-dom@16.8.6.min.js?v=1.1.2&m=1571341129 HTTP/1.1\u001b[0m\" 200 -\n",
      "127.0.0.1 - - [10/Sep/2020 22:46:06] \"\u001b[37mGET /_dash-component-suites/dash_table/bundle.js?v=4.4.1&m=1571349949 HTTP/1.1\u001b[0m\" 200 -\n",
      "127.0.0.1 - - [10/Sep/2020 22:46:06] \"\u001b[37mGET /_dash-component-suites/dash_core_components/plotly-1.50.1.min.js?v=1.3.1&m=1571359392 HTTP/1.1\u001b[0m\" 200 -\n",
      "127.0.0.1 - - [10/Sep/2020 22:46:06] \"\u001b[37mGET /_dash-component-suites/dash_core_components/highlight.pack.js?v=1.3.1&m=1571359392 HTTP/1.1\u001b[0m\" 200 -\n",
      "127.0.0.1 - - [10/Sep/2020 22:46:07] \"\u001b[37mGET /_dash-component-suites/dash_renderer/dash_renderer.min.js?v=1.1.2&m=1571341129 HTTP/1.1\u001b[0m\" 200 -\n",
      "127.0.0.1 - - [10/Sep/2020 22:46:07] \"\u001b[37mGET /_dash-component-suites/dash_core_components/dash_core_components.min.js?v=1.3.1&m=1571359392 HTTP/1.1\u001b[0m\" 200 -\n",
      "127.0.0.1 - - [10/Sep/2020 22:46:07] \"\u001b[37mGET /_dash-layout HTTP/1.1\u001b[0m\" 200 -\n",
      "127.0.0.1 - - [10/Sep/2020 22:46:07] \"\u001b[37mGET /_dash-dependencies HTTP/1.1\u001b[0m\" 200 -\n",
      "127.0.0.1 - - [10/Sep/2020 22:46:07] \"\u001b[37mPOST /_dash-update-component HTTP/1.1\u001b[0m\" 200 -\n",
      "127.0.0.1 - - [10/Sep/2020 22:46:07] \"\u001b[37mPOST /_dash-update-component HTTP/1.1\u001b[0m\" 200 -\n",
      "127.0.0.1 - - [10/Sep/2020 22:46:09] \"\u001b[37mGET / HTTP/1.1\u001b[0m\" 200 -\n",
      "127.0.0.1 - - [10/Sep/2020 22:46:09] \"\u001b[37mGET /_dash-component-suites/dash_renderer/react@16.8.6.min.js?v=1.1.2&m=1571341129 HTTP/1.1\u001b[0m\" 200 -\n",
      "127.0.0.1 - - [10/Sep/2020 22:46:09] \"\u001b[37mGET /_dash-component-suites/dash_renderer/prop-types@15.7.2.min.js?v=1.1.2&m=1571341129 HTTP/1.1\u001b[0m\" 200 -\n",
      "127.0.0.1 - - [10/Sep/2020 22:46:09] \"\u001b[37mGET /_dash-component-suites/dash_html_components/dash_html_components.min.js?v=1.0.1&m=1566962730 HTTP/1.1\u001b[0m\" 200 -\n",
      "127.0.0.1 - - [10/Sep/2020 22:46:09] \"\u001b[37mGET /_dash-component-suites/dash_renderer/react-dom@16.8.6.min.js?v=1.1.2&m=1571341129 HTTP/1.1\u001b[0m\" 200 -\n",
      "127.0.0.1 - - [10/Sep/2020 22:46:09] \"\u001b[37mGET /_dash-component-suites/dash_table/bundle.js?v=4.4.1&m=1571349949 HTTP/1.1\u001b[0m\" 200 -\n",
      "127.0.0.1 - - [10/Sep/2020 22:46:09] \"\u001b[37mGET /_dash-component-suites/dash_core_components/plotly-1.50.1.min.js?v=1.3.1&m=1571359392 HTTP/1.1\u001b[0m\" 200 -\n",
      "127.0.0.1 - - [10/Sep/2020 22:46:09] \"\u001b[37mGET /_dash-component-suites/dash_core_components/highlight.pack.js?v=1.3.1&m=1571359392 HTTP/1.1\u001b[0m\" 200 -\n",
      "127.0.0.1 - - [10/Sep/2020 22:46:09] \"\u001b[37mGET /_dash-component-suites/dash_renderer/dash_renderer.min.js?v=1.1.2&m=1571341129 HTTP/1.1\u001b[0m\" 200 -\n",
      "127.0.0.1 - - [10/Sep/2020 22:46:09] \"\u001b[37mGET /_dash-component-suites/dash_core_components/dash_core_components.min.js?v=1.3.1&m=1571359392 HTTP/1.1\u001b[0m\" 200 -\n",
      "127.0.0.1 - - [10/Sep/2020 22:46:10] \"\u001b[37mGET /_dash-layout HTTP/1.1\u001b[0m\" 200 -\n",
      "127.0.0.1 - - [10/Sep/2020 22:46:10] \"\u001b[37mGET /_dash-dependencies HTTP/1.1\u001b[0m\" 200 -\n",
      "127.0.0.1 - - [10/Sep/2020 22:46:10] \"\u001b[37mPOST /_dash-update-component HTTP/1.1\u001b[0m\" 200 -\n",
      "127.0.0.1 - - [10/Sep/2020 22:46:10] \"\u001b[37mPOST /_dash-update-component HTTP/1.1\u001b[0m\" 200 -\n"
     ]
    }
   ],
   "source": [
    "\n",
    "app.callback_map = {} # erases all callbacks\n",
    "app.layout = html.Div([\n",
    "    html.Div([\n",
    "        html.Br(),\n",
    "        html.Br(),\n",
    "        html.Div([\n",
    "            html.H2('Over 10 million Filipinos', id='fils1'),\n",
    "            html.H2('are depending their livelihood in rice farming. ', id='fils2'),\n",
    "            html.H2('And these farmers experienced', id='farmers'),\n",
    "            html.H1('an estimated average of 37% yield loss', id='loss'),\n",
    "            html.H2('due to pests and diseases.', id='pests'),\n",
    "\n",
    "        ]),\n",
    "        html.Br(),\n",
    "        html.Br(),\n",
    "    ], id='container0'),\n",
    "    html.Br(),\n",
    "    html.H1('How can we help our rice farmers maximize their yield production?', id='p1'),\n",
    "    html.Br(),\n",
    "    html.Div([\n",
    "        html.Br(),\n",
    "        html.Br(),\n",
    "        html.H2('Rice Leaf Disease Identifier', id='header1'),\n",
    "        html.Br(),\n",
    "        html.Br(),\n",
    "        html.P('''Just upload an image of a rice leaf below and get to know the disease\n",
    "               it possesses and the remedies to prevent further loss of rice''', id='p2'),\n",
    "        html.Br(),\n",
    "        dcc.Upload(\n",
    "            id='upload-image',\n",
    "            children=html.Div([\n",
    "                'Drag and Drop or ',\n",
    "                html.A('Select a File')\n",
    "            ])),\n",
    "        html.Br(),\n",
    "        html.H2('Important note:', id='note'),\n",
    "        html.P('''Try uploading images with single leaf at a time as the\n",
    "                algorithm won't predict images with multiple leaves.''',\n",
    "               id='p3'),\n",
    "        html.Br(),\n",
    "    ], id='container1'),\n",
    "    html.Br(),\n",
    "    html.Div([\n",
    "        html.Div(id='output-image-upload')\n",
    "    ], id=\"upload-image-container\"),\n",
    "    html.Br(),\n",
    "    html.Div(\n",
    "        html.Button(\"Predict\"),\n",
    "        id='predict'\n",
    "    ),\n",
    "\n",
    "    html.Br(),\n",
    "    html.Div(id='diagnosis')\n",
    "])\n",
    "\n",
    "@app.callback(Output('output-image-upload', 'children'),\n",
    "              [Input('upload-image', 'contents')],\n",
    "              [State('upload-image', 'filename')])\n",
    "def update_output(contents, filename):\n",
    "    return [html.Div([\n",
    "        html.H5(filename),\n",
    "        html.Img(src=contents, height=\"256px\"),\n",
    "    ])]\n",
    "\n",
    "# model = load_model(\"data/models/best_model_5conv2dense.h5\") #nag-eerror pag sa labas ng function ko dinefine\n",
    "@app.callback(Output('diagnosis', 'children'),\n",
    "             [Input('predict', 'n_clicks')],\n",
    "             [State('upload-image', 'contents')])\n",
    "def diagnose_disease(btn, contents):\n",
    "    if contents:\n",
    "        model._make_predict_function()\n",
    "        image_data = re.sub('^data:image/.+;base64,', '', contents)\n",
    "        im = Image.open(BytesIO(base64.b64decode(image_data)))\n",
    "        pred = model.predict(np.array(im.resize((256, 256)))[None,:,:,:]/225)[0]\n",
    "        classes = [\"Brown spot\", \"Healthy\", \"Hispa\", \"Leaf blast\"]\n",
    "        text_out = [[html.B(\"Brown spot\"), ''' is is a fungal disease commonly occurred in unflooded\n",
    "                    and nutrient-deficient soil, or in soils that accumulate toxic substances.\n",
    "                    Its most distinguishable feature is the big spots on the leaves which could\n",
    "                    possibly damage the whole leaf.\n",
    "\n",
    "                    Here are some of the solutions in preventing brown spot from further damaging the plants:''',\n",
    "                     html.Ul([html.Li(\"Monitor soil nutrients and apply required fertilizers and nutrients.\"),\n",
    "                              html.Li(\"Use resistant varieties of rice, use fungicides, or treat seeds with hot water (53-54degC) for 10-12 minutes before planting.\"),\n",
    "                              html.Li(\"To increase effectiveness of treatment, pre-soak seeds in cold water for eight hours.\")])],\n",
    "                   ['''Congratulations! Your leaf is ''', html.B(\"Healthy\")],\n",
    "                   [html.B(\"Hispa\"), ''' is a pest disease which commonly occurs when plant is\n",
    "                   in or near grassy weeds or due to heavily fertilized fields.\n",
    "                   This is dangerous to rice plants as it scrapes the upper surface\n",
    "                   of the leaf blades leaving only the lower epidermis.\n",
    "                   Here are some of the solutions in preventing the rice hispa from further damaging the plants:''',\n",
    "                    html.Ul([html.Li(\"Avoid over fertilizing the field\"),\n",
    "                              html.Li(\"Plant rice with more space in-between\"),\n",
    "                              html.Li(\"To prevent egg laying of the pests, cut the shoot tips. Clipping and burying shoots in the mud can reduce grub populations by 75−92%\")])],\n",
    "                   [html.B(\"Leaf blast\"), ''' is a fungal disease occurs in low soil moisture,\n",
    "                   frequent and prolonged periods of rain shower, and cool temperature in the daytime.\n",
    "                   It can affect all parts of rice plant and it easily occurs whenever there is presence\n",
    "                   of spores in any part.\n",
    "                    Here are some of the solutions in preventing the leaf blast from further damaging the plants:''',\n",
    "                    html.Ul([html.Li(\"Plant resistant varieties of rice. \"),\n",
    "                              html.Li(\"Adjust planting time. Sow seeds early, when possible, after the onset of the rainy season.\"),\n",
    "                              html.Li(\"Split nitrogen fertilizer application in two or more treatments. Excessive use of fertilizer can increase blast intensity.\"),\n",
    "                              html.Li(\"Flood the field as often as possible. Silicon fertilizers (e.g., calcium silicate) can be applied to soils that are silicon deficient to reduce blast. Systemic fungicides like triazoles and strobilurins can be used judiciously to control blast\")])]\n",
    "                    ]\n",
    "        text_classes = dict(zip(classes,text_out))\n",
    "        out_elem = [html.P(text_out[pred.argmax()]), ]\n",
    "        threshold = 0.1\n",
    "        if pred.argmax()==1 and (pred>threshold).sum()>1:\n",
    "            out_elem.append(\"However, there is still a small chance of the following diseases:\")\n",
    "            possible_disease = [i for i in np.array(classes)[pred>threshold] if i!=\"Healthy\"]\n",
    "            \n",
    "            for i in possible_disease:\n",
    "                text_to_out = text_classes[i]\n",
    "                \n",
    "                text_to_out.insert(1, html.B(f\" ({100*pred[classes.index(i)]:.2f}%)\"))\n",
    "                out_elem.append(html.P(text_to_out))\n",
    "#         probs = [[html.P(f\"{100*prob:.2f}% {disease}\"), html.Br()] for prob, disease in zip(pred, classes)]\n",
    "#         elems = html.Div([i for j in probs for i in j])\n",
    "#         return [*out_elem, elems]\n",
    "        return out_elem\n",
    "\n",
    "# # Dash CSS\n",
    "# app.css.append_css({\"external_url\": \"https://codepen.io/chriddyp/pen/bWLwgP.css\"})\n",
    "# # Loading screen CSS\n",
    "# app.css.append_css({\"external_url\": \"https://codepen.io/chriddyp/pen/brPBPO.css\"})\n",
    "show_app(app)\n"
   ]
  },
  {
   "cell_type": "code",
   "execution_count": null,
   "metadata": {},
   "outputs": [],
   "source": []
  }
 ],
 "metadata": {
  "kernelspec": {
   "display_name": "Python 3",
   "language": "python",
   "name": "python3"
  },
  "language_info": {
   "codemirror_mode": {
    "name": "ipython",
    "version": 3
   },
   "file_extension": ".py",
   "mimetype": "text/x-python",
   "name": "python",
   "nbconvert_exporter": "python",
   "pygments_lexer": "ipython3",
   "version": "3.7.5"
  },
  "toc": {
   "base_numbering": 1,
   "nav_menu": {},
   "number_sections": true,
   "sideBar": true,
   "skip_h1_title": false,
   "title_cell": "Table of Contents",
   "title_sidebar": "Contents",
   "toc_cell": false,
   "toc_position": {},
   "toc_section_display": true,
   "toc_window_display": false
  },
  "varInspector": {
   "cols": {
    "lenName": 16,
    "lenType": 16,
    "lenVar": 40
   },
   "kernels_config": {
    "python": {
     "delete_cmd_postfix": "",
     "delete_cmd_prefix": "del ",
     "library": "var_list.py",
     "varRefreshCmd": "print(var_dic_list())"
    },
    "r": {
     "delete_cmd_postfix": ") ",
     "delete_cmd_prefix": "rm(",
     "library": "var_list.r",
     "varRefreshCmd": "cat(var_dic_list()) "
    }
   },
   "types_to_exclude": [
    "module",
    "function",
    "builtin_function_or_method",
    "instance",
    "_Feature"
   ],
   "window_display": false
  }
 },
 "nbformat": 4,
 "nbformat_minor": 2
}
