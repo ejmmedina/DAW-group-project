{
 "cells": [
  {
   "cell_type": "code",
   "execution_count": 2,
   "metadata": {
    "ExecuteTime": {
     "end_time": "2020-01-03T14:51:11.696657Z",
     "start_time": "2020-01-03T14:51:11.692665Z"
    }
   },
   "outputs": [],
   "source": [
    "from IPython.display import display, IFrame, HTML\n",
    "import os\n",
    "\n",
    "def show_app(app, port=9999, width=900, height=700):\n",
    "    host = 'localhost'\n",
    "    url = f'http://{host}:{port}'\n",
    "\n",
    "    display(HTML(f\"<a href='{url}' target='_blank'>Open in new tab</a>\"))\n",
    "    display(IFrame(url, width=width, height=height))\n",
    "    app.css.config.serve_locally = True\n",
    "    app.scripts.config.serve_locally = True\n",
    "    return app.run_server(debug=False, host=host, port=port)"
   ]
  },
  {
   "cell_type": "code",
   "execution_count": 4,
   "metadata": {
    "ExecuteTime": {
     "end_time": "2020-01-03T14:51:16.933537Z",
     "start_time": "2020-01-03T14:51:14.995240Z"
    }
   },
   "outputs": [],
   "source": [
    "import dash\n",
    "import dash_core_components as dcc\n",
    "import dash_html_components as html\n",
    "import dash_table as dt\n",
    "import plotly.graph_objs as go\n",
    "import pandas as pd\n",
    "import re\n",
    "import base64\n",
    "from PIL import Image\n",
    "from io import BytesIO\n",
    "import numpy as np\n",
    "from dash.dependencies import Input, Output, State"
   ]
  },
  {
   "cell_type": "code",
   "execution_count": 5,
   "metadata": {
    "ExecuteTime": {
     "end_time": "2020-01-03T14:51:17.511414Z",
     "start_time": "2020-01-03T14:51:17.498447Z"
    }
   },
   "outputs": [],
   "source": [
    "# assets_folder directory where you put css and js\n",
    "external_stylesheets = [\"https://stackpath.bootstrapcdn.com/bootstrap/4.3.1/css/bootstrap.min.css\", \"https://codepen.io/chriddyp/pen/brPBPO.css\"]\n",
    "app = dash.Dash('__name__', assets_folder='static/', external_stylesheets=external_stylesheets)"
   ]
  },
  {
   "cell_type": "code",
   "execution_count": 6,
   "metadata": {
    "ExecuteTime": {
     "end_time": "2020-01-03T14:51:19.986582Z",
     "start_time": "2020-01-03T14:51:17.957010Z"
    },
    "scrolled": true
   },
   "outputs": [
    {
     "name": "stderr",
     "output_type": "stream",
     "text": [
      "C:\\Users\\Justin\\Anaconda3\\lib\\site-packages\\tensorflow\\python\\framework\\dtypes.py:516: FutureWarning:\n",
      "\n",
      "Passing (type, 1) or '1type' as a synonym of type is deprecated; in a future version of numpy, it will be understood as (type, (1,)) / '(1,)type'.\n",
      "\n",
      "C:\\Users\\Justin\\Anaconda3\\lib\\site-packages\\tensorflow\\python\\framework\\dtypes.py:517: FutureWarning:\n",
      "\n",
      "Passing (type, 1) or '1type' as a synonym of type is deprecated; in a future version of numpy, it will be understood as (type, (1,)) / '(1,)type'.\n",
      "\n",
      "C:\\Users\\Justin\\Anaconda3\\lib\\site-packages\\tensorflow\\python\\framework\\dtypes.py:518: FutureWarning:\n",
      "\n",
      "Passing (type, 1) or '1type' as a synonym of type is deprecated; in a future version of numpy, it will be understood as (type, (1,)) / '(1,)type'.\n",
      "\n",
      "C:\\Users\\Justin\\Anaconda3\\lib\\site-packages\\tensorflow\\python\\framework\\dtypes.py:519: FutureWarning:\n",
      "\n",
      "Passing (type, 1) or '1type' as a synonym of type is deprecated; in a future version of numpy, it will be understood as (type, (1,)) / '(1,)type'.\n",
      "\n",
      "C:\\Users\\Justin\\Anaconda3\\lib\\site-packages\\tensorflow\\python\\framework\\dtypes.py:520: FutureWarning:\n",
      "\n",
      "Passing (type, 1) or '1type' as a synonym of type is deprecated; in a future version of numpy, it will be understood as (type, (1,)) / '(1,)type'.\n",
      "\n",
      "C:\\Users\\Justin\\Anaconda3\\lib\\site-packages\\tensorflow\\python\\framework\\dtypes.py:525: FutureWarning:\n",
      "\n",
      "Passing (type, 1) or '1type' as a synonym of type is deprecated; in a future version of numpy, it will be understood as (type, (1,)) / '(1,)type'.\n",
      "\n",
      "C:\\Users\\Justin\\Anaconda3\\lib\\site-packages\\tensorboard\\compat\\tensorflow_stub\\dtypes.py:541: FutureWarning:\n",
      "\n",
      "Passing (type, 1) or '1type' as a synonym of type is deprecated; in a future version of numpy, it will be understood as (type, (1,)) / '(1,)type'.\n",
      "\n",
      "C:\\Users\\Justin\\Anaconda3\\lib\\site-packages\\tensorboard\\compat\\tensorflow_stub\\dtypes.py:542: FutureWarning:\n",
      "\n",
      "Passing (type, 1) or '1type' as a synonym of type is deprecated; in a future version of numpy, it will be understood as (type, (1,)) / '(1,)type'.\n",
      "\n",
      "C:\\Users\\Justin\\Anaconda3\\lib\\site-packages\\tensorboard\\compat\\tensorflow_stub\\dtypes.py:543: FutureWarning:\n",
      "\n",
      "Passing (type, 1) or '1type' as a synonym of type is deprecated; in a future version of numpy, it will be understood as (type, (1,)) / '(1,)type'.\n",
      "\n",
      "C:\\Users\\Justin\\Anaconda3\\lib\\site-packages\\tensorboard\\compat\\tensorflow_stub\\dtypes.py:544: FutureWarning:\n",
      "\n",
      "Passing (type, 1) or '1type' as a synonym of type is deprecated; in a future version of numpy, it will be understood as (type, (1,)) / '(1,)type'.\n",
      "\n",
      "C:\\Users\\Justin\\Anaconda3\\lib\\site-packages\\tensorboard\\compat\\tensorflow_stub\\dtypes.py:545: FutureWarning:\n",
      "\n",
      "Passing (type, 1) or '1type' as a synonym of type is deprecated; in a future version of numpy, it will be understood as (type, (1,)) / '(1,)type'.\n",
      "\n",
      "C:\\Users\\Justin\\Anaconda3\\lib\\site-packages\\tensorboard\\compat\\tensorflow_stub\\dtypes.py:550: FutureWarning:\n",
      "\n",
      "Passing (type, 1) or '1type' as a synonym of type is deprecated; in a future version of numpy, it will be understood as (type, (1,)) / '(1,)type'.\n",
      "\n"
     ]
    }
   ],
   "source": [
    "from tensorflow.keras.models import load_model"
   ]
  },
  {
   "cell_type": "code",
   "execution_count": 15,
   "metadata": {
    "ExecuteTime": {
     "end_time": "2020-01-03T14:58:23.486369Z",
     "start_time": "2020-01-03T14:58:23.482394Z"
    }
   },
   "outputs": [],
   "source": [
    "from tensorflow import get_default_graph"
   ]
  },
  {
   "cell_type": "code",
   "execution_count": 12,
   "metadata": {
    "ExecuteTime": {
     "end_time": "2020-01-03T14:55:44.789561Z",
     "start_time": "2020-01-03T14:55:44.777587Z"
    }
   },
   "outputs": [
    {
     "name": "stdout",
     "output_type": "stream",
     "text": [
      "Model: \"sequential_1\"\n",
      "_________________________________________________________________\n",
      "Layer (type)                 Output Shape              Param #   \n",
      "=================================================================\n",
      "conv2d_1 (Conv2D)            (None, 256, 256, 32)      896       \n",
      "_________________________________________________________________\n",
      "activation_1 (Activation)    (None, 256, 256, 32)      0         \n",
      "_________________________________________________________________\n",
      "batch_normalization_1 (Batch (None, 256, 256, 32)      128       \n",
      "_________________________________________________________________\n",
      "max_pooling2d_1 (MaxPooling2 (None, 85, 85, 32)        0         \n",
      "_________________________________________________________________\n",
      "dropout_1 (Dropout)          (None, 85, 85, 32)        0         \n",
      "_________________________________________________________________\n",
      "conv2d_2 (Conv2D)            (None, 85, 85, 64)        18496     \n",
      "_________________________________________________________________\n",
      "activation_2 (Activation)    (None, 85, 85, 64)        0         \n",
      "_________________________________________________________________\n",
      "batch_normalization_2 (Batch (None, 85, 85, 64)        256       \n",
      "_________________________________________________________________\n",
      "conv2d_3 (Conv2D)            (None, 85, 85, 64)        36928     \n",
      "_________________________________________________________________\n",
      "activation_3 (Activation)    (None, 85, 85, 64)        0         \n",
      "_________________________________________________________________\n",
      "batch_normalization_3 (Batch (None, 85, 85, 64)        256       \n",
      "_________________________________________________________________\n",
      "max_pooling2d_2 (MaxPooling2 (None, 42, 42, 64)        0         \n",
      "_________________________________________________________________\n",
      "dropout_2 (Dropout)          (None, 42, 42, 64)        0         \n",
      "_________________________________________________________________\n",
      "conv2d_4 (Conv2D)            (None, 42, 42, 128)       73856     \n",
      "_________________________________________________________________\n",
      "activation_4 (Activation)    (None, 42, 42, 128)       0         \n",
      "_________________________________________________________________\n",
      "batch_normalization_4 (Batch (None, 42, 42, 128)       512       \n",
      "_________________________________________________________________\n",
      "conv2d_5 (Conv2D)            (None, 42, 42, 128)       147584    \n",
      "_________________________________________________________________\n",
      "activation_5 (Activation)    (None, 42, 42, 128)       0         \n",
      "_________________________________________________________________\n",
      "batch_normalization_5 (Batch (None, 42, 42, 128)       512       \n",
      "_________________________________________________________________\n",
      "max_pooling2d_3 (MaxPooling2 (None, 21, 21, 128)       0         \n",
      "_________________________________________________________________\n",
      "dropout_3 (Dropout)          (None, 21, 21, 128)       0         \n",
      "_________________________________________________________________\n",
      "flatten_1 (Flatten)          (None, 56448)             0         \n",
      "_________________________________________________________________\n",
      "dense_1 (Dense)              (None, 256)               14450944  \n",
      "_________________________________________________________________\n",
      "activation_6 (Activation)    (None, 256)               0         \n",
      "_________________________________________________________________\n",
      "batch_normalization_6 (Batch (None, 256)               1024      \n",
      "_________________________________________________________________\n",
      "dropout_4 (Dropout)          (None, 256)               0         \n",
      "_________________________________________________________________\n",
      "dense_2 (Dense)              (None, 4)                 1028      \n",
      "_________________________________________________________________\n",
      "activation_7 (Activation)    (None, 4)                 0         \n",
      "=================================================================\n",
      "Total params: 14,732,420\n",
      "Trainable params: 14,731,076\n",
      "Non-trainable params: 1,344\n",
      "_________________________________________________________________\n"
     ]
    }
   ],
   "source": [
    "model.summary()"
   ]
  },
  {
   "cell_type": "code",
   "execution_count": 22,
   "metadata": {
    "ExecuteTime": {
     "end_time": "2020-01-03T15:07:34.060743Z",
     "start_time": "2020-01-03T15:01:48.348872Z"
    },
    "scrolled": false
   },
   "outputs": [
    {
     "data": {
      "text/html": [
       "<a href='http://localhost:9999' target='_blank'>Open in new tab</a>"
      ],
      "text/plain": [
       "<IPython.core.display.HTML object>"
      ]
     },
     "metadata": {},
     "output_type": "display_data"
    },
    {
     "data": {
      "text/html": [
       "\n",
       "        <iframe\n",
       "            width=\"900\"\n",
       "            height=\"700\"\n",
       "            src=\"http://localhost:9999\"\n",
       "            frameborder=\"0\"\n",
       "            allowfullscreen\n",
       "        ></iframe>\n",
       "        "
      ],
      "text/plain": [
       "<IPython.lib.display.IFrame at 0x256588df848>"
      ]
     },
     "metadata": {},
     "output_type": "display_data"
    },
    {
     "name": "stdout",
     "output_type": "stream",
     "text": [
      " * Serving Flask app \"__name__\" (lazy loading)\n",
      " * Environment: production\n",
      "   WARNING: This is a development server. Do not use it in a production deployment.\n",
      "   Use a production WSGI server instead.\n",
      " * Debug mode: off\n"
     ]
    },
    {
     "name": "stderr",
     "output_type": "stream",
     "text": [
      " * Running on http://localhost:9999/ (Press CTRL+C to quit)\n",
      "127.0.0.1 - - [03/Jan/2020 23:01:57] \"\u001b[37mGET / HTTP/1.1\u001b[0m\" 200 -\n",
      "127.0.0.1 - - [03/Jan/2020 23:01:58] \"\u001b[37mGET /_dash-component-suites/dash_renderer/react@16.8.6.min.js?v=1.1.2&m=1571341129 HTTP/1.1\u001b[0m\" 200 -\n",
      "127.0.0.1 - - [03/Jan/2020 23:01:58] \"\u001b[37mGET /_dash-component-suites/dash_renderer/prop-types@15.7.2.min.js?v=1.1.2&m=1571341129 HTTP/1.1\u001b[0m\" 200 -\n",
      "127.0.0.1 - - [03/Jan/2020 23:01:58] \"\u001b[37mGET /_dash-component-suites/dash_renderer/react-dom@16.8.6.min.js?v=1.1.2&m=1571341129 HTTP/1.1\u001b[0m\" 200 -\n",
      "127.0.0.1 - - [03/Jan/2020 23:01:58] \"\u001b[37mGET /_dash-component-suites/dash_html_components/dash_html_components.min.js?v=1.0.1&m=1566962730 HTTP/1.1\u001b[0m\" 200 -\n",
      "127.0.0.1 - - [03/Jan/2020 23:01:58] \"\u001b[37mGET /_dash-component-suites/dash_renderer/dash_renderer.min.js?v=1.1.2&m=1571341129 HTTP/1.1\u001b[0m\" 200 -\n",
      "127.0.0.1 - - [03/Jan/2020 23:01:58] \"\u001b[37mGET /_dash-component-suites/dash_core_components/highlight.pack.js?v=1.3.1&m=1571359392 HTTP/1.1\u001b[0m\" 200 -\n",
      "127.0.0.1 - - [03/Jan/2020 23:01:59] \"\u001b[37mGET /_dash-component-suites/dash_core_components/dash_core_components.min.js?v=1.3.1&m=1571359392 HTTP/1.1\u001b[0m\" 200 -\n",
      "127.0.0.1 - - [03/Jan/2020 23:01:59] \"\u001b[37mGET /_dash-component-suites/dash_table/bundle.js?v=4.4.1&m=1571349949 HTTP/1.1\u001b[0m\" 200 -\n",
      "127.0.0.1 - - [03/Jan/2020 23:01:59] \"\u001b[37mGET /_dash-component-suites/dash_core_components/plotly-1.50.1.min.js?v=1.3.1&m=1571359392 HTTP/1.1\u001b[0m\" 200 -\n",
      "127.0.0.1 - - [03/Jan/2020 23:02:00] \"\u001b[37mGET /_dash-layout HTTP/1.1\u001b[0m\" 200 -\n",
      "127.0.0.1 - - [03/Jan/2020 23:02:00] \"\u001b[37mGET /_dash-dependencies HTTP/1.1\u001b[0m\" 200 -\n",
      "127.0.0.1 - - [03/Jan/2020 23:02:00] \"\u001b[37mPOST /_dash-update-component HTTP/1.1\u001b[0m\" 200 -\n",
      "127.0.0.1 - - [03/Jan/2020 23:02:00] \"\u001b[37mPOST /_dash-update-component HTTP/1.1\u001b[0m\" 200 -\n",
      "127.0.0.1 - - [03/Jan/2020 23:02:05] \"\u001b[37mPOST /_dash-update-component HTTP/1.1\u001b[0m\" 200 -\n"
     ]
    },
    {
     "name": "stdout",
     "output_type": "stream",
     "text": [
      "Exception on /_dash-update-component [POST]\n",
      "Traceback (most recent call last):\n",
      "  File \"C:\\Users\\Justin\\Anaconda3\\lib\\site-packages\\flask\\app.py\", line 2446, in wsgi_app\n",
      "    response = self.full_dispatch_request()\n",
      "  File \"C:\\Users\\Justin\\Anaconda3\\lib\\site-packages\\flask\\app.py\", line 1951, in full_dispatch_request\n",
      "    rv = self.handle_user_exception(e)\n",
      "  File \"C:\\Users\\Justin\\Anaconda3\\lib\\site-packages\\flask\\app.py\", line 1820, in handle_user_exception\n",
      "    reraise(exc_type, exc_value, tb)\n",
      "  File \"C:\\Users\\Justin\\Anaconda3\\lib\\site-packages\\flask\\_compat.py\", line 39, in reraise\n",
      "    raise value\n",
      "  File \"C:\\Users\\Justin\\Anaconda3\\lib\\site-packages\\flask\\app.py\", line 1949, in full_dispatch_request\n",
      "    rv = self.dispatch_request()\n",
      "  File \"C:\\Users\\Justin\\Anaconda3\\lib\\site-packages\\flask\\app.py\", line 1935, in dispatch_request\n",
      "    return self.view_functions[rule.endpoint](**req.view_args)\n",
      "  File \"C:\\Users\\Justin\\Anaconda3\\lib\\site-packages\\dash\\dash.py\", line 1371, in dispatch\n",
      "    response.set_data(self.callback_map[output][\"callback\"](*args))\n",
      "  File \"C:\\Users\\Justin\\Anaconda3\\lib\\site-packages\\dash\\dash.py\", line 1251, in add_context\n",
      "    output_value = func(*args, **kwargs)  # %% callback invoked %%\n",
      "  File \"<ipython-input-22-ce23fbf1ba3e>\", line 71, in diagnose_disease\n",
      "    model._make_predict_function()\n",
      "  File \"C:\\Users\\Justin\\Anaconda3\\lib\\site-packages\\tensorflow\\python\\keras\\engine\\training.py\", line 2272, in _make_predict_function\n",
      "    **kwargs)\n",
      "  File \"C:\\Users\\Justin\\Anaconda3\\lib\\site-packages\\tensorflow\\python\\keras\\backend.py\", line 3479, in function\n",
      "    return GraphExecutionFunction(inputs, outputs, updates=updates, **kwargs)\n",
      "  File \"C:\\Users\\Justin\\Anaconda3\\lib\\site-packages\\tensorflow\\python\\keras\\backend.py\", line 3142, in __init__\n",
      "    with ops.control_dependencies([self.outputs[0]]):\n",
      "  File \"C:\\Users\\Justin\\Anaconda3\\lib\\site-packages\\tensorflow\\python\\framework\\ops.py\", line 5426, in control_dependencies\n",
      "    return get_default_graph().control_dependencies(control_inputs)\n",
      "  File \"C:\\Users\\Justin\\Anaconda3\\lib\\site-packages\\tensorflow\\python\\framework\\ops.py\", line 4867, in control_dependencies\n",
      "    c = self.as_graph_element(c)\n",
      "  File \"C:\\Users\\Justin\\Anaconda3\\lib\\site-packages\\tensorflow\\python\\framework\\ops.py\", line 3796, in as_graph_element\n",
      "    return self._as_graph_element_locked(obj, allow_tensor, allow_operation)\n",
      "  File \"C:\\Users\\Justin\\Anaconda3\\lib\\site-packages\\tensorflow\\python\\framework\\ops.py\", line 3875, in _as_graph_element_locked\n",
      "    raise ValueError(\"Tensor %s is not an element of this graph.\" % obj)\n",
      "ValueError: Tensor Tensor(\"activation_7_10/Softmax:0\", shape=(?, 4), dtype=float32) is not an element of this graph.\n"
     ]
    },
    {
     "name": "stderr",
     "output_type": "stream",
     "text": [
      "127.0.0.1 - - [03/Jan/2020 23:02:08] \"\u001b[1m\u001b[35mPOST /_dash-update-component HTTP/1.1\u001b[0m\" 500 -\n"
     ]
    }
   ],
   "source": [
    "\n",
    "app.callback_map = {} # erases all callbacks\n",
    "app.layout = html.Div([\n",
    "    html.Div([\n",
    "        html.Br(),\n",
    "        html.Br(),\n",
    "        html.Div([\n",
    "            html.H2('Over 10 million Filipinos', id='fils1'),\n",
    "            html.H2('are depending their livelihood in rice farming. ', id='fils2'),\n",
    "            html.H2('And these farmers experienced', id='farmers'),\n",
    "            html.H1('an estimated average of 37% yield loss', id='loss'),\n",
    "            html.H2('due to pests and diseases.', id='pests'),\n",
    "\n",
    "        ]),\n",
    "        html.Br(),\n",
    "        html.Br(),\n",
    "    ], id='container0'),\n",
    "    html.Br(),\n",
    "    html.H1('How can we help our rice farmers maximize their yield production?', id='p1'),\n",
    "    html.Br(),\n",
    "    html.Div([\n",
    "        html.Br(),\n",
    "        html.Br(),\n",
    "        html.H2('Rice Leaf Disease Identifier', id='header1'),\n",
    "        html.Br(),\n",
    "        html.Br(),\n",
    "        html.P('''Just upload an image of a rice leaf below and get to know the disease\n",
    "               it posses and the remedies to prevent further loss of rice''', id='p2'),\n",
    "        html.Br(),\n",
    "        dcc.Upload(\n",
    "            id='upload-image',\n",
    "            children=html.Div([\n",
    "                'Drag and Drop or ',\n",
    "                html.A('Select a File')\n",
    "            ])),\n",
    "        html.Br(),\n",
    "        html.H2('Important note:', id='note'),\n",
    "        html.P('''Try uploading images with single leaf at a time as the\n",
    "                algorithm won't predict images with multiple leaves.''',\n",
    "               id='p3'),\n",
    "        html.Br(),\n",
    "    ], id='container1'),\n",
    "    html.Br(),\n",
    "    html.Div([\n",
    "        html.Div(id='output-image-upload')\n",
    "    ], id=\"upload-image-container\"),\n",
    "    html.Br(),\n",
    "    html.Div(\n",
    "        html.Button(\"Predict\"),\n",
    "        id='predict'\n",
    "    ),\n",
    "\n",
    "    html.Br(),\n",
    "    html.Div(id='diagnosis')\n",
    "])\n",
    "\n",
    "@app.callback(Output('output-image-upload', 'children'),\n",
    "              [Input('upload-image', 'contents')],\n",
    "              [State('upload-image', 'filename')])\n",
    "def update_output(contents, filename):\n",
    "    return [html.Div([\n",
    "        html.H5(filename),\n",
    "        html.Img(src=contents, height=\"256px\"),\n",
    "    ])]\n",
    "\n",
    "model = load_model(\"data/models/best_model_5conv2dense.h5\") #nag-eerror pag sa labas ng function ko dinefine\n",
    "@app.callback(Output('diagnosis', 'children'),\n",
    "             [Input('predict', 'n_clicks')],\n",
    "             [State('upload-image', 'contents')])\n",
    "def diagnose_disease(btn, contents):\n",
    "    if contents:\n",
    "        model._make_predict_function()\n",
    "        image_data = re.sub('^data:image/.+;base64,', '', contents)\n",
    "        im = Image.open(BytesIO(base64.b64decode(image_data)))\n",
    "        pred = model.predict(np.array(im.resize((256, 256)))[None,:,:,:]/225)[0]\n",
    "        classes = [\"Brown spot\", \"Healthy\", \"Hispa\", \"Leaf blast\"]\n",
    "        text_out = [[html.B(\"Brown spot\"), ''' is is a fungal disease commonly occurred in unflooded\n",
    "                    and nutrient-deficient soil, or in soils that accumulate toxic substances.\n",
    "                    Its most distinguishable feature is the big spots on the leaves which could\n",
    "                    possibly damage the whole leaf.\n",
    "\n",
    "                    Here are some of the solutions in preventing brown spot from further damaging the plants:''',\n",
    "                     html.Ul([html.Li(\"Monitor soil nutrients and apply required fertilizers and nutrients.\"),\n",
    "                              html.Li(\"Use resistant varieties of rice, use fungicides, or treat seeds with hot water (53-54degC) for 10-12 minutes before planting.\"),\n",
    "                              html.Li(\"To increase effectiveness of treatment, pre-soak seeds in cold water for eight hours.\")])],\n",
    "                   ['''Congratulations! Your leaf is ''', html.B(\"Healthy\")],\n",
    "                   [html.B(\"Hispa\"), ''' is a pest disease which commonly occurs when plant is\n",
    "                   in or near grassy weeds or due to heavily fertilized fields.\n",
    "                   This is dangerous to rice plants as it scrapes the upper surface\n",
    "                   of the leaf blades leaving only the lower epidermis.\n",
    "                   Here are some of the solutions in preventing the rice hispa from further damaging the plants:''',\n",
    "                    html.Ul([html.Li(\"Avoid over fertilizing the field\"),\n",
    "                              html.Li(\"Plant rice with more space in-between\"),\n",
    "                              html.Li(\"To prevent egg laying of the pests, cut the shoot tips. Clipping and burying shoots in the mud can reduce grub populations by 75−92%\")])],\n",
    "                   [html.B(\"Leaf blast\"), ''' is a fungal disease occurs in low soil moisture,\n",
    "                   frequent and prolonged periods of rain shower, and cool temperature in the daytime.\n",
    "                   It can affect all parts of rice plant and it easily occurs whenever there is presence\n",
    "                   of spores in any part.\n",
    "                    Here are some of the solutions in preventing the leaf blast from further damaging the plants:''',\n",
    "                    html.Ul([html.Li(\"Plant resistant varieties of rice. \"),\n",
    "                              html.Li(\"Adjust planting time. Sow seeds early, when possible, after the onset of the rainy season.\"),\n",
    "                              html.Li(\"Split nitrogen fertilizer application in two or more treatments. Excessive use of fertilizer can increase blast intensity.\"),\n",
    "                              html.Li(\"Flood the field as often as possible. Silicon fertilizers (e.g., calcium silicate) can be applied to soils that are silicon deficient to reduce blast. Systemic fungicides like triazoles and strobilurins can be used judiciously to control blast\")])]\n",
    "                    ]\n",
    "        text_classes = dict(zip(classes,text_out))\n",
    "        out_elem = [html.P(text_out[pred.argmax()]), ]\n",
    "        threshold = 0.1\n",
    "        if pred.argmax()==1 and (pred>threshold).sum()>1:\n",
    "            out_elem.append(\"However, there is still a small chance of the following diseases:\")\n",
    "            possible_disease = [i for i in np.array(classes)[pred>threshold] if i!=\"Healthy\"]\n",
    "            \n",
    "            for i in possible_disease:\n",
    "                text_to_out = text_classes[i]\n",
    "                \n",
    "                text_to_out.insert(1, html.B(f\" ({100*pred[classes.index(i)]:.2f}%)\"))\n",
    "                out_elem.append(html.P(text_to_out))\n",
    "#         probs = [[html.P(f\"{100*prob:.2f}% {disease}\"), html.Br()] for prob, disease in zip(pred, classes)]\n",
    "#         elems = html.Div([i for j in probs for i in j])\n",
    "#         return [*out_elem, elems]\n",
    "        return out_elem\n",
    "\n",
    "# # Dash CSS\n",
    "# app.css.append_css({\"external_url\": \"https://codepen.io/chriddyp/pen/bWLwgP.css\"})\n",
    "# # Loading screen CSS\n",
    "# app.css.append_css({\"external_url\": \"https://codepen.io/chriddyp/pen/brPBPO.css\"})\n",
    "show_app(app)\n"
   ]
  },
  {
   "cell_type": "code",
   "execution_count": 20,
   "metadata": {
    "ExecuteTime": {
     "end_time": "2020-01-03T15:00:49.328666Z",
     "start_time": "2020-01-03T15:00:49.324707Z"
    }
   },
   "outputs": [],
   "source": []
  },
  {
   "cell_type": "code",
   "execution_count": null,
   "metadata": {},
   "outputs": [],
   "source": []
  }
 ],
 "metadata": {
  "kernelspec": {
   "display_name": "Python 3",
   "language": "python",
   "name": "python3"
  },
  "language_info": {
   "codemirror_mode": {
    "name": "ipython",
    "version": 3
   },
   "file_extension": ".py",
   "mimetype": "text/x-python",
   "name": "python",
   "nbconvert_exporter": "python",
   "pygments_lexer": "ipython3",
   "version": "3.7.5"
  },
  "toc": {
   "base_numbering": 1,
   "nav_menu": {},
   "number_sections": true,
   "sideBar": true,
   "skip_h1_title": false,
   "title_cell": "Table of Contents",
   "title_sidebar": "Contents",
   "toc_cell": false,
   "toc_position": {},
   "toc_section_display": true,
   "toc_window_display": false
  },
  "varInspector": {
   "cols": {
    "lenName": 16,
    "lenType": 16,
    "lenVar": 40
   },
   "kernels_config": {
    "python": {
     "delete_cmd_postfix": "",
     "delete_cmd_prefix": "del ",
     "library": "var_list.py",
     "varRefreshCmd": "print(var_dic_list())"
    },
    "r": {
     "delete_cmd_postfix": ") ",
     "delete_cmd_prefix": "rm(",
     "library": "var_list.r",
     "varRefreshCmd": "cat(var_dic_list()) "
    }
   },
   "types_to_exclude": [
    "module",
    "function",
    "builtin_function_or_method",
    "instance",
    "_Feature"
   ],
   "window_display": false
  }
 },
 "nbformat": 4,
 "nbformat_minor": 2
}
